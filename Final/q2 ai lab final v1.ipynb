{
 "cells": [
  {
   "cell_type": "code",
   "execution_count": 1,
   "id": "f4c54963",
   "metadata": {},
   "outputs": [],
   "source": [
    "#add/import any required library here\n",
    "import csv as csv\n",
    "import numpy as np\n",
    "#from sklearn.model_selection import train_test_split\n",
    "#from sklearn.metrics import accuracy_score\n"
   ]
  },
  {
   "cell_type": "code",
   "execution_count": 2,
   "id": "95ffc040",
   "metadata": {},
   "outputs": [],
   "source": [
    "data1 = []\n",
    "with open('w1.csv', 'r', encoding = 'utf8') as csvfile:\n",
    "    readCSV = csv.reader(csvfile, delimiter=',')\n",
    "    for pnt1 in readCSV:\n",
    "        data1.append(pnt1)\n",
    "        \n",
    "data1 = data1[1:]\n"
   ]
  },
  {
   "cell_type": "code",
   "execution_count": 3,
   "id": "e8ee4d0f",
   "metadata": {},
   "outputs": [],
   "source": [
    "X =[]\n",
    "Y = []\n",
    "#Seperate the features and labels in X and Y respectively ..............\n",
    "for i in data1:\n",
    "    X.append(i[:-1])\n",
    "    Y.append(i[-1])"
   ]
  },
  {
   "cell_type": "code",
   "execution_count": null,
   "id": "7a31e860",
   "metadata": {},
   "outputs": [],
   "source": [
    "#remove the features you are asked to avoid from X[]\n"
   ]
  },
  {
   "cell_type": "code",
   "execution_count": 4,
   "id": "e2d6cbd9",
   "metadata": {},
   "outputs": [],
   "source": [
    "#Implement Train Test Split here\n",
    "TrnX =[]\n",
    "TrnY=[]\n",
    "TstX=[]\n",
    "TstY=[]"
   ]
  },
  {
   "cell_type": "code",
   "execution_count": 5,
   "id": "c61e032a",
   "metadata": {},
   "outputs": [],
   "source": [
    "TrainX = np.array(TrnX)\n",
    "TrainX = TrainX.astype(float, order='K', casting='unsafe', subok=True, copy=True)\n",
    "TrainY = np.array(TrnY)\n",
    "TrainY = TrainY.astype(int, order='K', casting='unsafe', subok=True, copy=True)\n",
    "TestX = np.array(TstX)\n",
    "TestX = TestX.astype(float, order='K', casting='unsafe', subok=True, copy=True)\n",
    "TestY = np.array(TstY)\n",
    "TestY = TestY.astype(int, order='K', casting='unsafe', subok=True, copy=True)\n"
   ]
  },
  {
   "cell_type": "code",
   "execution_count": null,
   "id": "cfa74fe7",
   "metadata": {},
   "outputs": [],
   "source": [
    "#if any other helping method is required, implement it here"
   ]
  },
  {
   "cell_type": "code",
   "execution_count": 6,
   "id": "8c3c440d",
   "metadata": {},
   "outputs": [],
   "source": [
    "#Implement a function to calculate Distance here"
   ]
  },
  {
   "cell_type": "code",
   "execution_count": 5,
   "id": "7af66e20",
   "metadata": {},
   "outputs": [],
   "source": [
    "#Implement a function to find accuracy here"
   ]
  },
  {
   "cell_type": "code",
   "execution_count": 7,
   "id": "09c96ad2",
   "metadata": {},
   "outputs": [],
   "source": [
    "#Perform your testing here"
   ]
  },
  {
   "cell_type": "code",
   "execution_count": null,
   "id": "182dff86",
   "metadata": {},
   "outputs": [],
   "source": [
    "#Display accuracy here"
   ]
  }
 ],
 "metadata": {
  "kernelspec": {
   "display_name": "Python 3 (ipykernel)",
   "language": "python",
   "name": "python3"
  },
  "language_info": {
   "codemirror_mode": {
    "name": "ipython",
    "version": 3
   },
   "file_extension": ".py",
   "mimetype": "text/x-python",
   "name": "python",
   "nbconvert_exporter": "python",
   "pygments_lexer": "ipython3",
   "version": "3.9.12"
  }
 },
 "nbformat": 4,
 "nbformat_minor": 5
}

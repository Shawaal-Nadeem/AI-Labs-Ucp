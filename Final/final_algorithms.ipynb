{
 "cells": [
  {
   "cell_type": "markdown",
   "metadata": {},
   "source": [
    "## Genetic Algorithm"
   ]
  },
  {
   "cell_type": "code",
   "execution_count": 6,
   "metadata": {},
   "outputs": [
    {
     "name": "stdout",
     "output_type": "stream",
     "text": [
      "Generation: 1\tString: I-9rc&14 5&a\tFitness: 11\n",
      "Generation: 2\tString: I-9rc&14 5&a\tFitness: 11\n",
      "Generation: 3\tString: [;UEXG 0hw[y\tFitness: 10\n",
      "Generation: 4\tString: [;UEXG 0hw[y\tFitness: 10\n",
      "Generation: 5\tString: g l_i$nNp}zy\tFitness: 8\n",
      "Generation: 6\tString: g l_i$nNp}zy\tFitness: 8\n",
      "Generation: 7\tString: I Cwv) /[5]y\tFitness: 7\n",
      "Generation: 8\tString: I lwvF N j%b\tFitness: 6\n",
      "Generation: 9\tString: I lwvF N j%b\tFitness: 6\n",
      "Generation: 10\tString: I lBv$ N.}6y\tFitness: 5\n",
      "Generation: 11\tString: I l!ve N ]zy\tFitness: 4\n",
      "Generation: 12\tString: I l!ve N ]zy\tFitness: 4\n",
      "Generation: 13\tString: I l!ve N ]zy\tFitness: 4\n",
      "Generation: 14\tString: I lCve Nrn%y\tFitness: 3\n",
      "Generation: 15\tString: I lCve Nrn%y\tFitness: 3\n",
      "Generation: 16\tString: I lCve Nrn%y\tFitness: 3\n",
      "Generation: 17\tString: I lCve Nrn%y\tFitness: 3\n",
      "Generation: 18\tString: I love N n%y\tFitness: 2\n",
      "Generation: 19\tString: I love N n%y\tFitness: 2\n",
      "Generation: 20\tString: I love N n%y\tFitness: 2\n",
      "Generation: 21\tString: I love N n%y\tFitness: 2\n",
      "Generation: 22\tString: I love N n%y\tFitness: 2\n",
      "Generation: 23\tString: I love N n%y\tFitness: 2\n",
      "Generation: 24\tString: I love N n%y\tFitness: 2\n",
      "Generation: 25\tString: I love Nan6y\tFitness: 1\n",
      "Generation: 26\tString: I love Nan6y\tFitness: 1\n",
      "Generation: 27\tString: I love Nan6y\tFitness: 1\n",
      "Generation: 28\tString: I love Nan6y\tFitness: 1\n",
      "Generation: 29\tString: I love Nan6y\tFitness: 1\n",
      "Generation: 30\tString: I love Nan6y\tFitness: 1\n",
      "Generation: 31\tString: I love Nan6y\tFitness: 1\n",
      "Generation: 32\tString: I love Nan6y\tFitness: 1\n",
      "Generation: 33\tString: I love Nan6y\tFitness: 1\n",
      "Generation: 34\tString: I love Nan6y\tFitness: 1\n",
      "Generation: 35\tString: I love Nancy\tFitness: 0\n"
     ]
    }
   ],
   "source": [
    "\n",
    "import random \n",
    "\n",
    "POPULATION_SIZE = 100\n",
    "\n",
    "GENES = '''abcdefghijklmnopqrstuvwxyzABCDEFGHIJKLMNOP \n",
    "QRSTUVWXYZ 1234567890, .-;:_!\"#%&/()=?@${[]}'''\n",
    "\n",
    "TARGET = \"I love Nancy\"\n",
    "\n",
    "class Individual(object): \n",
    "   \n",
    "    def __init__(self, chromosome): \n",
    "        self.chromosome = chromosome \n",
    "        self.fitness = self.cal_fitness() \n",
    "\n",
    "    @classmethod\n",
    "    def mutated_genes(cls): \n",
    "       \n",
    "        gene = random.choice(GENES) \n",
    "        return gene \n",
    "\n",
    "    @classmethod\n",
    "    def create_gnome(cls): \n",
    "       \n",
    "        gnome_len = len(TARGET) \n",
    "        return [cls.mutated_genes() for _ in range(gnome_len)] \n",
    "\n",
    "    def mate(self, par2): \n",
    "       \n",
    "        child_chromosome = [] \n",
    "        for gp1, gp2 in zip(self.chromosome, par2.chromosome):     \n",
    "\n",
    "            prob = random.random() \n",
    "\n",
    "            if prob < 0.45: \n",
    "                child_chromosome.append(gp1) \n",
    "\n",
    "            elif prob < 0.90: \n",
    "                child_chromosome.append(gp2) \n",
    "\n",
    "            else: \n",
    "                child_chromosome.append(self.mutated_genes()) \n",
    "\n",
    "        return Individual(child_chromosome) \n",
    "\n",
    "    def cal_fitness(self): \n",
    "        fitness = 0\n",
    "        for gs, gt in zip(self.chromosome, TARGET): \n",
    "            if gs != gt: fitness += 1\n",
    "        return fitness \n",
    "\n",
    "def main(): \n",
    "    global POPULATION_SIZE \n",
    "    generation = 1\n",
    "    found = False\n",
    "    population = [] \n",
    "\n",
    "    for _ in range(POPULATION_SIZE): \n",
    "        gnome = Individual.create_gnome() \n",
    "        population.append(Individual(gnome)) \n",
    "\n",
    "    while not found: \n",
    "\n",
    "        population = sorted(population, key=lambda x: x.fitness) \n",
    "\n",
    "        if population[0].fitness <= 0: \n",
    "            found = True\n",
    "            break\n",
    "\n",
    "        new_generation = [] \n",
    "\n",
    "      \n",
    "        s = int((10 * POPULATION_SIZE) / 100) \n",
    "        new_generation.extend(population[:s]) \n",
    "\n",
    "      \n",
    "        s = int((90 * POPULATION_SIZE) / 100) \n",
    "        for _ in range(s): \n",
    "            parent1 = random.choice(population[:50]) \n",
    "            parent2 = random.choice(population[:50]) \n",
    "            child = parent1.mate(parent2) \n",
    "            new_generation.append(child) \n",
    "\n",
    "        population = new_generation \n",
    "\n",
    "        print(\"Generation: {}\\tString: {}\\tFitness: {}\".\\\n",
    "            format(generation, \n",
    "            \"\".join(population[0].chromosome), \n",
    "            population[0].fitness)) \n",
    "\n",
    "        generation += 1\n",
    "\n",
    "    \n",
    "    print(\"Generation: {}\\tString: {}\\tFitness: {}\".\\\n",
    "        format(generation, \n",
    "        \"\".join(population[0].chromosome), \n",
    "        population[0].fitness)) \n",
    "\n",
    "if __name__ == '__main__': \n",
    "    main() \n"
   ]
  },
  {
   "cell_type": "markdown",
   "metadata": {},
   "source": [
    "## KNN Algoritm"
   ]
  },
  {
   "cell_type": "code",
   "execution_count": 7,
   "metadata": {},
   "outputs": [
    {
     "name": "stdout",
     "output_type": "stream",
     "text": [
      "Predictions: [0 1]\n"
     ]
    }
   ],
   "source": [
    "# %pip install numpy\n",
    "\n",
    "import numpy as np\n",
    "from collections import Counter\n",
    "\n",
    "def distance(x1, x2):\n",
    "    return np.sqrt(np.sum((x1 - x2) ** 2))\n",
    "\n",
    "def knn(train_X, train_y, test_X, k=3):\n",
    "    y_pred = []\n",
    "    for i in test_X:\n",
    "        dist = [distance(i, train_x) for train_x in train_X]\n",
    "        k_indices = np.argsort(dist)[:k]\n",
    "        k_nearest = [train_y[j] for j in k_indices]\n",
    "        most_common = Counter(k_nearest).most_common(1)\n",
    "        y_pred.append(most_common[0][0])\n",
    "    return np.array(y_pred)\n",
    "\n",
    "if __name__ == \"__main__\":\n",
    "    train_X = np.array([[1, 2], [2, 3], [3, 4], [6, 7], [7, 8], [8, 9]])\n",
    "    train_y = np.array([0, 0, 0, 1, 1, 1])\n",
    "    test_X = np.array([[4, 5], [5, 6]])\n",
    "\n",
    "    predictions = knn(train_X, train_y, test_X, k=3)\n",
    "    print(\"Predictions:\", predictions)\n"
   ]
  },
  {
   "cell_type": "markdown",
   "metadata": {},
   "source": [
    "## Minimax"
   ]
  },
  {
   "cell_type": "code",
   "execution_count": 1,
   "metadata": {},
   "outputs": [
    {
     "name": "stdout",
     "output_type": "stream",
     "text": [
      "The optimal value is: 12\n"
     ]
    }
   ],
   "source": [
    "import math\n",
    "\n",
    "def minimax(curDepth, nodeIndex, maxTurn, scores, targetDepth):\n",
    "    if curDepth == targetDepth:\n",
    "        return scores[nodeIndex]\n",
    "    \n",
    "    if maxTurn:\n",
    "        return max(minimax(curDepth + 1, nodeIndex * 2, False, scores, targetDepth), \n",
    "                   minimax(curDepth + 1, nodeIndex * 2 + 1, False, scores, targetDepth))\n",
    "    else:\n",
    "        return min(minimax(curDepth + 1, nodeIndex * 2, True, scores, targetDepth), \n",
    "                   minimax(curDepth + 1, nodeIndex * 2 + 1, True, scores, targetDepth))\n",
    "\n",
    "scores = [3, 5, 2, 9, 12, 5, 23, 23]\n",
    "treeDepth = math.log(len(scores), 2)\n",
    "\n",
    "print(\"The optimal value is:\", end=\" \")\n",
    "print(minimax(0, 0, True, scores, int(treeDepth)))\n"
   ]
  }
 ],
 "metadata": {
  "kernelspec": {
   "display_name": "Python 3",
   "language": "python",
   "name": "python3"
  },
  "language_info": {
   "codemirror_mode": {
    "name": "ipython",
    "version": 3
   },
   "file_extension": ".py",
   "mimetype": "text/x-python",
   "name": "python",
   "nbconvert_exporter": "python",
   "pygments_lexer": "ipython3",
   "version": "3.12.1"
  }
 },
 "nbformat": 4,
 "nbformat_minor": 2
}

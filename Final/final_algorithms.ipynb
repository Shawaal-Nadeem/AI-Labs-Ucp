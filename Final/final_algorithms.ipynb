{
 "cells": [
  {
   "cell_type": "markdown",
   "metadata": {},
   "source": [
    "## Genetic Algorithm"
   ]
  },
  {
   "cell_type": "code",
   "execution_count": 9,
   "metadata": {},
   "outputs": [
    {
     "name": "stdout",
     "output_type": "stream",
     "text": [
      "Generation: 1\tString: ,\n",
      "NXFeeTdFHw\tFitness: 11\n",
      "Generation: 2\tString: IF#ZDeNqwy0[\tFitness: 10\n",
      "Generation: 3\tString: I 2oX j5_KFf\tFitness: 9\n",
      "Generation: 4\tString: t DovS IpDrk\tFitness: 8\n",
      "Generation: 5\tString: t DovS IpDrk\tFitness: 8\n",
      "Generation: 6\tString: t DovS IpDrk\tFitness: 8\n",
      "Generation: 7\tString: I DoveSK_,F[\tFitness: 7\n",
      "Generation: 8\tString: I Hove apDF%\tFitness: 6\n",
      "Generation: 9\tString: I love apDo%\tFitness: 5\n",
      "Generation: 10\tString: I love apDo%\tFitness: 5\n",
      "Generation: 11\tString: I love apDo%\tFitness: 5\n",
      "Generation: 12\tString: I love apDo%\tFitness: 5\n",
      "Generation: 13\tString: I love apDo%\tFitness: 5\n",
      "Generation: 14\tString: I love KIsoy\tFitness: 4\n",
      "Generation: 15\tString: I love KIsoy\tFitness: 4\n",
      "Generation: 16\tString: I love KIsoy\tFitness: 4\n",
      "Generation: 17\tString: I love KIsoy\tFitness: 4\n",
      "Generation: 18\tString: I love KIsoy\tFitness: 4\n",
      "Generation: 19\tString: I love KIsoy\tFitness: 4\n",
      "Generation: 20\tString: I love KIsoy\tFitness: 4\n",
      "Generation: 21\tString: I love KIsoy\tFitness: 4\n",
      "Generation: 22\tString: I love KIsoy\tFitness: 4\n",
      "Generation: 23\tString: I love KIsoy\tFitness: 4\n",
      "Generation: 24\tString: I love KIsoy\tFitness: 4\n",
      "Generation: 25\tString: I love KIsoy\tFitness: 4\n",
      "Generation: 26\tString: I love KIsoy\tFitness: 4\n",
      "Generation: 27\tString: I love KIsoy\tFitness: 4\n",
      "Generation: 28\tString: I love N1)Hy\tFitness: 3\n",
      "Generation: 29\tString: I love N1)Hy\tFitness: 3\n",
      "Generation: 30\tString: I love N1)Hy\tFitness: 3\n",
      "Generation: 31\tString: I love N1)Hy\tFitness: 3\n",
      "Generation: 32\tString: I love N1)Hy\tFitness: 3\n",
      "Generation: 33\tString: I love N1)Hy\tFitness: 3\n",
      "Generation: 34\tString: I love N1)Hy\tFitness: 3\n",
      "Generation: 35\tString: I love N1)Hy\tFitness: 3\n",
      "Generation: 36\tString: I love N1)Hy\tFitness: 3\n",
      "Generation: 37\tString: I love N1)Hy\tFitness: 3\n",
      "Generation: 38\tString: I love N1)Hy\tFitness: 3\n",
      "Generation: 39\tString: I love N1)Hy\tFitness: 3\n",
      "Generation: 40\tString: I love N1)Hy\tFitness: 3\n",
      "Generation: 41\tString: I love N1)Hy\tFitness: 3\n",
      "Generation: 42\tString: I love N1)Hy\tFitness: 3\n",
      "Generation: 43\tString: I love NaYoy\tFitness: 2\n",
      "Generation: 44\tString: I love NaYoy\tFitness: 2\n",
      "Generation: 45\tString: I love NaYoy\tFitness: 2\n",
      "Generation: 46\tString: I love NaYoy\tFitness: 2\n",
      "Generation: 47\tString: I love NaYoy\tFitness: 2\n",
      "Generation: 48\tString: I love NaYoy\tFitness: 2\n",
      "Generation: 49\tString: I love Nan{y\tFitness: 1\n",
      "Generation: 50\tString: I love Nan{y\tFitness: 1\n",
      "Generation: 51\tString: I love Nan{y\tFitness: 1\n",
      "Generation: 52\tString: I love Nancy\tFitness: 0\n"
     ]
    }
   ],
   "source": [
    "\n",
    "import random \n",
    "\n",
    "POPULATION_SIZE = 100\n",
    "\n",
    "GENES = '''abcdefghijklmnopqrstuvwxyzABCDEFGHIJKLMNOP \n",
    "QRSTUVWXYZ 1234567890, .-;:_!\"#%&/()=?@${[]}'''\n",
    "\n",
    "TARGET = \"I love Nancy\"\n",
    "\n",
    "class Individual(object): \n",
    "   \n",
    "    def __init__(self, chromosome): \n",
    "        self.chromosome = chromosome \n",
    "        self.fitness = self.cal_fitness() \n",
    "\n",
    "    @classmethod\n",
    "    def mutated_genes(cls): \n",
    "       \n",
    "        gene = random.choice(GENES) \n",
    "        return gene \n",
    "\n",
    "    @classmethod\n",
    "    def create_gnome(cls): \n",
    "       \n",
    "        gnome_len = len(TARGET) \n",
    "        return [cls.mutated_genes() for _ in range(gnome_len)] \n",
    "\n",
    "    def mate(self, par2): \n",
    "       \n",
    "        child_chromosome = [] \n",
    "        for gp1, gp2 in zip(self.chromosome, par2.chromosome):     \n",
    "\n",
    "            prob = random.random() \n",
    "\n",
    "            if prob < 0.45: \n",
    "                child_chromosome.append(gp1) \n",
    "\n",
    "            elif prob < 0.90: \n",
    "                child_chromosome.append(gp2) \n",
    "\n",
    "            else: \n",
    "                child_chromosome.append(self.mutated_genes()) \n",
    "\n",
    "        return Individual(child_chromosome) \n",
    "\n",
    "    def cal_fitness(self): \n",
    "        fitness = 0\n",
    "        for gs, gt in zip(self.chromosome, TARGET): \n",
    "            if gs != gt: fitness += 1\n",
    "        return fitness \n",
    "\n",
    "def main(): \n",
    "    global POPULATION_SIZE \n",
    "    generation = 1\n",
    "    found = False\n",
    "    population = [] \n",
    "\n",
    "    for _ in range(POPULATION_SIZE): \n",
    "        gnome = Individual.create_gnome() \n",
    "        population.append(Individual(gnome)) \n",
    "\n",
    "    while not found: \n",
    "\n",
    "        population = sorted(population, key=lambda x: x.fitness) \n",
    "\n",
    "        if population[0].fitness <= 0: \n",
    "            found = True\n",
    "            break\n",
    "\n",
    "        new_generation = [] \n",
    "\n",
    "      \n",
    "        s = int((10 * POPULATION_SIZE) / 100) \n",
    "        new_generation.extend(population[:s]) \n",
    "\n",
    "      \n",
    "        s = int((90 * POPULATION_SIZE) / 100) \n",
    "        for _ in range(s): \n",
    "            parent1 = random.choice(population[:50]) \n",
    "            parent2 = random.choice(population[:50]) \n",
    "            child = parent1.mate(parent2) \n",
    "            new_generation.append(child) \n",
    "\n",
    "        population = new_generation \n",
    "\n",
    "        print(\"Generation: {}\\tString: {}\\tFitness: {}\".\\\n",
    "            format(generation, \n",
    "            \"\".join(population[0].chromosome), \n",
    "            population[0].fitness)) \n",
    "\n",
    "        generation += 1\n",
    "\n",
    "    \n",
    "    print(\"Generation: {}\\tString: {}\\tFitness: {}\".\\\n",
    "        format(generation, \n",
    "        \"\".join(population[0].chromosome), \n",
    "        population[0].fitness)) \n",
    "\n",
    "if __name__ == '__main__': \n",
    "    main() \n"
   ]
  },
  {
   "cell_type": "markdown",
   "metadata": {},
   "source": [
    "## KNN Algoritm"
   ]
  },
  {
   "cell_type": "code",
   "execution_count": 7,
   "metadata": {},
   "outputs": [
    {
     "name": "stdout",
     "output_type": "stream",
     "text": [
      "Predictions: [0 1]\n"
     ]
    }
   ],
   "source": [
    "# %pip install numpy\n",
    "\n",
    "import numpy as np\n",
    "from collections import Counter\n",
    "\n",
    "def distance(x1, x2):\n",
    "    return np.sqrt(np.sum((x1 - x2) ** 2))\n",
    "\n",
    "def knn(train_X, train_y, test_X, k=3):\n",
    "    y_pred = []\n",
    "    for i in test_X:\n",
    "        dist = [distance(i, train_x) for train_x in train_X]\n",
    "        k_indices = np.argsort(dist)[:k]\n",
    "        k_nearest = [train_y[j] for j in k_indices]\n",
    "        most_common = Counter(k_nearest).most_common(1)\n",
    "        y_pred.append(most_common[0][0])\n",
    "    return np.array(y_pred)\n",
    "\n",
    "if __name__ == \"__main__\":\n",
    "    train_X = np.array([[1, 2], [2, 3], [3, 4], [6, 7], [7, 8], [8, 9]])\n",
    "    train_y = np.array([0, 0, 0, 1, 1, 1])\n",
    "    test_X = np.array([[4, 5], [5, 6]])\n",
    "\n",
    "    predictions = knn(train_X, train_y, test_X, k=3)\n",
    "    print(\"Predictions:\", predictions)\n"
   ]
  },
  {
   "cell_type": "code",
   "execution_count": 10,
   "metadata": {},
   "outputs": [
    {
     "name": "stdout",
     "output_type": "stream",
     "text": [
      "Requirement already satisfied: numpy in c:\\users\\shawal nadeem\\appdata\\local\\programs\\python\\python312\\lib\\site-packages (2.0.0)Note: you may need to restart the kernel to use updated packages.\n",
      "\n"
     ]
    },
    {
     "name": "stderr",
     "output_type": "stream",
     "text": [
      "\n",
      "[notice] A new release of pip is available: 23.2.1 -> 24.1.2\n",
      "[notice] To update, run: python.exe -m pip install --upgrade pip\n"
     ]
    },
    {
     "name": "stdout",
     "output_type": "stream",
     "text": [
      "^C\n",
      "Note: you may need to restart the kernel to use updated packages.\n"
     ]
    },
    {
     "ename": "ModuleNotFoundError",
     "evalue": "No module named 'sklearn'",
     "output_type": "error",
     "traceback": [
      "\u001b[1;31m---------------------------------------------------------------------------\u001b[0m",
      "\u001b[1;31mModuleNotFoundError\u001b[0m                       Traceback (most recent call last)",
      "Cell \u001b[1;32mIn[10], line 5\u001b[0m\n\u001b[0;32m      2\u001b[0m get_ipython()\u001b[38;5;241m.\u001b[39mrun_line_magic(\u001b[38;5;124m'\u001b[39m\u001b[38;5;124mpip\u001b[39m\u001b[38;5;124m'\u001b[39m, \u001b[38;5;124m'\u001b[39m\u001b[38;5;124minstall scikit-learn\u001b[39m\u001b[38;5;124m'\u001b[39m)\n\u001b[0;32m      4\u001b[0m \u001b[38;5;28;01mimport\u001b[39;00m \u001b[38;5;21;01mnumpy\u001b[39;00m \u001b[38;5;28;01mas\u001b[39;00m \u001b[38;5;21;01mnp\u001b[39;00m\n\u001b[1;32m----> 5\u001b[0m \u001b[38;5;28;01mfrom\u001b[39;00m \u001b[38;5;21;01msklearn\u001b[39;00m\u001b[38;5;21;01m.\u001b[39;00m\u001b[38;5;21;01mdatasets\u001b[39;00m \u001b[38;5;28;01mimport\u001b[39;00m load_iris\n\u001b[0;32m      6\u001b[0m \u001b[38;5;28;01mfrom\u001b[39;00m \u001b[38;5;21;01msklearn\u001b[39;00m\u001b[38;5;21;01m.\u001b[39;00m\u001b[38;5;21;01mmodel_selection\u001b[39;00m \u001b[38;5;28;01mimport\u001b[39;00m train_test_split\n\u001b[0;32m      7\u001b[0m \u001b[38;5;28;01mfrom\u001b[39;00m \u001b[38;5;21;01mcollections\u001b[39;00m \u001b[38;5;28;01mimport\u001b[39;00m Counter\n",
      "\u001b[1;31mModuleNotFoundError\u001b[0m: No module named 'sklearn'"
     ]
    }
   ],
   "source": [
    "# %pip install numpy\n",
    "%pip install scikit-learn\n",
    "\n",
    "import numpy as np\n",
    "from sklearn.datasets import load_iris\n",
    "from sklearn.model_selection import train_test_split\n",
    "from collections import Counter\n",
    "\n",
    "def distance(x1, x2):\n",
    "    return np.sqrt(np.sum((x1 - x2) ** 2))\n",
    "\n",
    "def knn(train_X, train_y, test_X, k=3):\n",
    "    y_pred = []\n",
    "    for i in test_X:\n",
    "        dist = [distance(i, train_x) for train_x in train_X]\n",
    "        k_indices = np.argsort(dist)[:k]\n",
    "        k_nearest = [train_y[j] for j in k_indices]\n",
    "        most_common = Counter(k_nearest).most_common(1)\n",
    "        y_pred.append(most_common[0][0])\n",
    "    return np.array(y_pred)\n",
    "\n",
    "if __name__ == \"__main__\":\n",
    "    iris = load_iris()\n",
    "    X = iris.data\n",
    "    y = iris.target\n",
    "\n",
    "    train_X, test_X, train_y, test_y = train_test_split(X, y, test_size=0.3, random_state=42)\n",
    "\n",
    "    predictions = knn(train_X, train_y, test_X, k=3)\n",
    "    \n",
    "    accuracy = np.sum(predictions == test_y) / len(test_y)\n",
    "    print(\"Predictions:\", predictions)\n",
    "    print(\"Accuracy:\", accuracy)\n"
   ]
  },
  {
   "cell_type": "markdown",
   "metadata": {},
   "source": [
    "## Minimax"
   ]
  },
  {
   "cell_type": "code",
   "execution_count": 1,
   "metadata": {},
   "outputs": [
    {
     "name": "stdout",
     "output_type": "stream",
     "text": [
      "The optimal value is: 12\n"
     ]
    }
   ],
   "source": [
    "import math\n",
    "\n",
    "def minimax(curDepth, nodeIndex, maxTurn, scores, targetDepth):\n",
    "    if curDepth == targetDepth:\n",
    "        return scores[nodeIndex]\n",
    "    \n",
    "    if maxTurn:\n",
    "        return max(minimax(curDepth + 1, nodeIndex * 2, False, scores, targetDepth), \n",
    "                   minimax(curDepth + 1, nodeIndex * 2 + 1, False, scores, targetDepth))\n",
    "    else:\n",
    "        return min(minimax(curDepth + 1, nodeIndex * 2, True, scores, targetDepth), \n",
    "                   minimax(curDepth + 1, nodeIndex * 2 + 1, True, scores, targetDepth))\n",
    "\n",
    "scores = [3, 5, 2, 9, 12, 5, 23, 23]\n",
    "treeDepth = math.log(len(scores), 2)\n",
    "\n",
    "print(\"The optimal value is:\", end=\" \")\n",
    "print(minimax(0, 0, True, scores, int(treeDepth)))\n"
   ]
  }
 ],
 "metadata": {
  "kernelspec": {
   "display_name": "Python 3",
   "language": "python",
   "name": "python3"
  },
  "language_info": {
   "codemirror_mode": {
    "name": "ipython",
    "version": 3
   },
   "file_extension": ".py",
   "mimetype": "text/x-python",
   "name": "python",
   "nbconvert_exporter": "python",
   "pygments_lexer": "ipython3",
   "version": "3.12.1"
  }
 },
 "nbformat": 4,
 "nbformat_minor": 2
}

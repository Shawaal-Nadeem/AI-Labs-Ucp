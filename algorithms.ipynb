{
 "cells": [
  {
   "cell_type": "markdown",
   "metadata": {},
   "source": [
    "# BFS"
   ]
  },
  {
   "cell_type": "code",
   "execution_count": 15,
   "metadata": {},
   "outputs": [
    {
     "name": "stdout",
     "output_type": "stream",
     "text": [
      "A B C D E F "
     ]
    }
   ],
   "source": [
    "from collections import deque\n",
    "\n",
    "def bfs(graph,start):\n",
    "    visited=set()\n",
    "    queue=deque([start])\n",
    "    visited.add(start)\n",
    "    while queue:\n",
    "        vertex=queue.popleft()\n",
    "        print(vertex,end=\" \")\n",
    "        for neighbour in graph[vertex]:\n",
    "            if neighbour not in visited:\n",
    "                queue.append(neighbour)\n",
    "                visited.add(neighbour)\n",
    "\n",
    "graph = {\n",
    "    'A': ['B', 'C'],\n",
    "    'B': ['A', 'D', 'E'],\n",
    "    'C': ['A', 'F'],\n",
    "    'D': ['B'],\n",
    "    'E': ['B', 'F'],\n",
    "    'F': ['C', 'E']\n",
    "}\n",
    "\n",
    "bfs(graph,\"A\")"
   ]
  },
  {
   "cell_type": "markdown",
   "metadata": {},
   "source": [
    "# DFS"
   ]
  },
  {
   "cell_type": "code",
   "execution_count": 16,
   "metadata": {},
   "outputs": [
    {
     "name": "stdout",
     "output_type": "stream",
     "text": [
      "A B D E F C "
     ]
    }
   ],
   "source": [
    "\n",
    "def dfs(graph,start,visited=None):\n",
    "    if visited is None:\n",
    "        visited = set()\n",
    "    \n",
    "    visited.add(start)\n",
    "    print(start,end=\" \")\n",
    "    for neighbour in graph[start]:\n",
    "        if neighbour not in visited:\n",
    "            dfs(graph,neighbour,visited)\n",
    "\n",
    "graph = {\n",
    "    'A': ['B', 'C'],\n",
    "    'B': ['A', 'D', 'E'],\n",
    "    'C': ['A', 'F'],\n",
    "    'D': ['B'],\n",
    "    'E': ['B', 'F'],\n",
    "    'F': ['C', 'E']\n",
    "}\n",
    "\n",
    "dfs(graph,\"A\")"
   ]
  },
  {
   "cell_type": "markdown",
   "metadata": {},
   "source": [
    "# UCS"
   ]
  },
  {
   "cell_type": "code",
   "execution_count": 19,
   "metadata": {},
   "outputs": [
    {
     "name": "stdout",
     "output_type": "stream",
     "text": [
      "['A', 'C', 'F']\n"
     ]
    }
   ],
   "source": [
    "import heapq\n",
    "\n",
    "def ucs(graph,start,goal):\n",
    "    visited = set()\n",
    "    queue = [(0,start,[])]\n",
    "    while queue:\n",
    "        cost,node,path = heapq.heappop(queue)\n",
    "        if node not in visited:\n",
    "            visited.add(node)\n",
    "            path=path+[node]\n",
    "            if node==goal:\n",
    "                return path\n",
    "            for neighbour,neighbourCost in graph[node].items():\n",
    "                if neighbour not in visited:\n",
    "                    heapq.heappush(queue,(cost+neighbourCost,neighbour,path))\n",
    "\n",
    "    return None\n",
    "\n",
    "graph = {\n",
    "    'A': {'B': 4, 'C': 2},\n",
    "    'B': {'A': 4, 'D': 5, 'E': 10},\n",
    "    'C': {'A': 2, 'F': 12},\n",
    "    'D': {'B': 5},\n",
    "    'E': {'B': 10, 'F': 3},\n",
    "    'F': {'C': 12, 'E': 3}\n",
    "}\n",
    "\n",
    "startNode = \"A\"\n",
    "goalNode = \"F\"\n",
    "\n",
    "path = ucs(graph,startNode,goalNode)\n",
    "print(path)"
   ]
  },
  {
   "cell_type": "markdown",
   "metadata": {},
   "source": [
    "# Greedy Best First Search"
   ]
  },
  {
   "cell_type": "code",
   "execution_count": 21,
   "metadata": {},
   "outputs": [
    {
     "name": "stdout",
     "output_type": "stream",
     "text": [
      "['A', 'B', 'E', 'F']\n"
     ]
    }
   ],
   "source": [
    "import heapq\n",
    "\n",
    "def greedy_best_first_search(graph,start,goal,heuristic):\n",
    "    visited = set()\n",
    "    queue = [(heuristic[start],start,[])]\n",
    "    while queue:\n",
    "        _,node,path = heapq.heappop(queue)\n",
    "        if node not in visited:\n",
    "            visited.add(node)\n",
    "            path=path+[node]\n",
    "            if node == goal:\n",
    "                return path\n",
    "            for neighbour,_ in graph[node].items():\n",
    "                if neighbour not in visited:\n",
    "                    heapq.heappush(queue,(heuristic[neighbour],neighbour,path))\n",
    "\n",
    "    return None\n",
    "\n",
    "graph = {\n",
    "    'A': {'B': 4, 'C': 2},\n",
    "    'B': {'A': 4, 'D': 5, 'E': 10},\n",
    "    'C': {'A': 2, 'F': 12},\n",
    "    'D': {'B': 5},\n",
    "    'E': {'B': 10, 'F': 3},\n",
    "    'F': {'C': 12, 'E': 3}\n",
    "}\n",
    "\n",
    "heuristic = {\n",
    "    'A': 8,\n",
    "    'B': 5,\n",
    "    'C': 6,\n",
    "    'D': 3,\n",
    "    'E': 2,\n",
    "    'F': 0 \n",
    "}\n",
    "\n",
    "startNode = \"A\"\n",
    "goalNode = \"F\"\n",
    "\n",
    "path = greedy_best_first_search(graph,startNode,goalNode,heuristic)\n",
    "print(path)"
   ]
  },
  {
   "cell_type": "markdown",
   "metadata": {},
   "source": [
    "# A*"
   ]
  },
  {
   "cell_type": "code",
   "execution_count": 23,
   "metadata": {},
   "outputs": [
    {
     "name": "stdout",
     "output_type": "stream",
     "text": [
      "['A', 'C', 'F']\n"
     ]
    }
   ],
   "source": [
    "import heapq\n",
    "\n",
    "def aStar(graph,start,goal,heuristic):\n",
    "    visited = set()\n",
    "    queue = [(heuristic[start],0,start,[])]\n",
    "    while queue:\n",
    "        _,cost,node,path = heapq.heappop(queue)\n",
    "        if node not in visited:\n",
    "            visited.add(node)\n",
    "            path = path+[node]\n",
    "            if node == goal:\n",
    "                return path\n",
    "            \n",
    "            for neighbour,neighbourCost in graph[node].items():\n",
    "                if neighbour not in visited:\n",
    "                    heapq.heappush(queue,(cost+neighbourCost+heuristic[neighbour],cost+neighbourCost,neighbour,path))\n",
    "\n",
    "    return None\n",
    "\n",
    "graph = {\n",
    "    'A': {'B': 4, 'C': 2},\n",
    "    'B': {'A': 4, 'D': 5, 'E': 10},\n",
    "    'C': {'A': 2, 'F': 12},\n",
    "    'D': {'B': 5},\n",
    "    'E': {'B': 10, 'F': 3},\n",
    "    'F': {'C': 12, 'E': 3}\n",
    "}\n",
    "\n",
    "heuristic = {\n",
    "    'A': 8,\n",
    "    'B': 5,\n",
    "    'C': 6,\n",
    "    'D': 3,\n",
    "    'E': 2,\n",
    "    'F': 0 \n",
    "}\n",
    "\n",
    "startNode = \"A\"\n",
    "goalNode = \"F\"\n",
    "\n",
    "path = aStar(graph,startNode,goalNode,heuristic)\n",
    "print(path)"
   ]
  },
  {
   "cell_type": "markdown",
   "metadata": {},
   "source": [
    "# IDA*"
   ]
  },
  {
   "cell_type": "code",
   "execution_count": 27,
   "metadata": {},
   "outputs": [
    {
     "name": "stdout",
     "output_type": "stream",
     "text": [
      "IDA* search from A to F :\n",
      "Path found: ['A', 'F']\n"
     ]
    }
   ],
   "source": [
    "def ida_star(graph, start, goal, heuristic):\n",
    "    def search(node, g, bound, path):\n",
    "        f = g + heuristic[node]\n",
    "        if f > bound:\n",
    "            return f\n",
    "        if node == goal:\n",
    "            return 'FOUND', path + [node]\n",
    "        \n",
    "        min_val = float('inf')\n",
    "        for neighbor, cost in graph[node].items():\n",
    "            if neighbor not in path:\n",
    "                result = search(neighbor, g + cost, bound, path)\n",
    "                if isinstance(result, tuple) and result[0] == 'FOUND':\n",
    "                    return result\n",
    "                if result < min_val:\n",
    "                    min_val = result\n",
    "        \n",
    "        return min_val\n",
    "    \n",
    "    bound = heuristic[start]\n",
    "    path = [start]\n",
    "    while True:\n",
    "        result = search(start, 0, bound, path)\n",
    "        if isinstance(result, tuple) and result[0] == 'FOUND':\n",
    "            return result[1]\n",
    "        if result == float('inf'):\n",
    "            return None\n",
    "        bound = result\n",
    "\n",
    "\n",
    "\n",
    "\n",
    "graph = {\n",
    "    'A': {'B': 4, 'C': 2},\n",
    "    'B': {'A': 4, 'D': 5, 'E': 10},\n",
    "    'C': {'A': 2, 'F': 12},\n",
    "    'D': {'B': 5},\n",
    "    'E': {'B': 10, 'F': 3},\n",
    "    'F': {'C': 12, 'E': 3}\n",
    "}\n",
    "\n",
    "heuristic = {\n",
    "    'A': 8,\n",
    "    'B': 5,\n",
    "    'C': 6,\n",
    "    'D': 3,\n",
    "    'E': 2,\n",
    "    'F': 0 \n",
    "}\n",
    "\n",
    "start_node = 'A'\n",
    "goal_node = 'F'\n",
    "\n",
    "print(\"IDA* search from\", start_node, \"to\", goal_node, \":\")\n",
    "path = ida_star(graph, start_node, goal_node, heuristic)\n",
    "if path:\n",
    "    print(\"Path found:\", path)\n",
    "else:\n",
    "    print(\"No path found.\")\n"
   ]
  }
 ],
 "metadata": {
  "kernelspec": {
   "display_name": "myopenai",
   "language": "python",
   "name": "python3"
  },
  "language_info": {
   "codemirror_mode": {
    "name": "ipython",
    "version": 3
   },
   "file_extension": ".py",
   "mimetype": "text/x-python",
   "name": "python",
   "nbconvert_exporter": "python",
   "pygments_lexer": "ipython3",
   "version": "undefined.undefined.undefined"
  }
 },
 "nbformat": 4,
 "nbformat_minor": 2
}

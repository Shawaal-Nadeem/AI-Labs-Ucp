{
 "cells": [
  {
   "attachments": {},
   "cell_type": "markdown",
   "metadata": {},
   "source": [
    "## Task 1"
   ]
  },
  {
   "cell_type": "code",
   "execution_count": 1,
   "metadata": {},
   "outputs": [
    {
     "name": "stdout",
     "output_type": "stream",
     "text": [
      "Elements: [1, 2, 3, 4, 5, 6, 7, 8, 9, 10, 11, 12, 13, 14, 15]\n",
      "Length: 15\n"
     ]
    }
   ],
   "source": [
    "numbers = list(range(1,16))\n",
    "elements = list(numbers)\n",
    "print(f\"Elements: {elements}\")\n",
    "print(f\"Length: {len(elements)}\")\n"
   ]
  },
  {
   "attachments": {},
   "cell_type": "markdown",
   "metadata": {},
   "source": [
    "## Task 2"
   ]
  },
  {
   "cell_type": "code",
   "execution_count": 3,
   "metadata": {},
   "outputs": [
    {
     "name": "stdout",
     "output_type": "stream",
     "text": [
      "Total Sum: 120\n"
     ]
    }
   ],
   "source": [
    "print(f\"Total Sum: {sum(numbers)}\")"
   ]
  },
  {
   "attachments": {},
   "cell_type": "markdown",
   "metadata": {},
   "source": [
    "## Task 3"
   ]
  },
  {
   "cell_type": "code",
   "execution_count": 8,
   "metadata": {},
   "outputs": [
    {
     "name": "stdout",
     "output_type": "stream",
     "text": [
      "Elements: [1, 2, 3, 4, 5, 6, 7, 8, 9, 10, 11, 12, 13, 14, 15]\n",
      "\n",
      "\n",
      "Total Sum: 639\n"
     ]
    }
   ],
   "source": [
    "numbers = [42,15,78,7,33,60,25,89,50,11,68,3,91,22,45]\n",
    "print(f\"Elements: {elements}\")\n",
    "print(\"\\n\")\n",
    "print(f\"Total Sum: {sum(numbers)}\")"
   ]
  },
  {
   "attachments": {},
   "cell_type": "markdown",
   "metadata": {},
   "source": [
    "## Task 4\n",
    "### Mean"
   ]
  },
  {
   "cell_type": "code",
   "execution_count": 9,
   "metadata": {},
   "outputs": [
    {
     "name": "stdout",
     "output_type": "stream",
     "text": [
      "Mean: 42.6\n"
     ]
    }
   ],
   "source": [
    "sum = sum(numbers)\n",
    "length = len(numbers)\n",
    "mean = sum/length\n",
    "print(f\"Mean: {mean}\")"
   ]
  },
  {
   "attachments": {},
   "cell_type": "markdown",
   "metadata": {},
   "source": [
    "## Task 5\n",
    "### Median"
   ]
  },
  {
   "cell_type": "code",
   "execution_count": 12,
   "metadata": {},
   "outputs": [
    {
     "name": "stdout",
     "output_type": "stream",
     "text": [
      "Median: 42\n"
     ]
    }
   ],
   "source": [
    "numbers.sort()\n",
    "n = len(numbers)\n",
    "\n",
    "if n%2==0:\n",
    "    median = (numbers[n // 2 - 1] + numbers[n // 2])/2\n",
    "\n",
    "else:\n",
    "    median = numbers[n // 2]\n",
    "\n",
    "print(f\"Median: {median}\")"
   ]
  },
  {
   "cell_type": "code",
   "execution_count": 13,
   "metadata": {},
   "outputs": [
    {
     "ename": "TypeError",
     "evalue": "list indices must be integers or slices, not float",
     "output_type": "error",
     "traceback": [
      "\u001b[1;31m---------------------------------------------------------------------------\u001b[0m",
      "\u001b[1;31mTypeError\u001b[0m                                 Traceback (most recent call last)",
      "Cell \u001b[1;32mIn[13], line 8\u001b[0m\n\u001b[0;32m      5\u001b[0m     median \u001b[39m=\u001b[39m (numbers[n \u001b[39m/\u001b[39m \u001b[39m2\u001b[39m \u001b[39m-\u001b[39m \u001b[39m1\u001b[39m] \u001b[39m+\u001b[39m numbers[n \u001b[39m/\u001b[39m \u001b[39m2\u001b[39m])\u001b[39m/\u001b[39m\u001b[39m2\u001b[39m\n\u001b[0;32m      7\u001b[0m \u001b[39melse\u001b[39;00m:\n\u001b[1;32m----> 8\u001b[0m     median \u001b[39m=\u001b[39m numbers[n \u001b[39m/\u001b[39;49m \u001b[39m2\u001b[39;49m]\n\u001b[0;32m     10\u001b[0m \u001b[39mprint\u001b[39m(\u001b[39mf\u001b[39m\u001b[39m\"\u001b[39m\u001b[39mMedian: \u001b[39m\u001b[39m{\u001b[39;00mmedian\u001b[39m}\u001b[39;00m\u001b[39m\"\u001b[39m)\n",
      "\u001b[1;31mTypeError\u001b[0m: list indices must be integers or slices, not float"
     ]
    }
   ],
   "source": [
    "numbers.sort()\n",
    "n = len(numbers)\n",
    "\n",
    "if n % 2 == 0:\n",
    "    median = (numbers[n / 2 - 1] + numbers[n / 2])/2\n",
    "\n",
    "else:\n",
    "    median = numbers[n / 2]\n",
    "\n",
    "print(f\"Median: {median}\")"
   ]
  },
  {
   "attachments": {},
   "cell_type": "markdown",
   "metadata": {},
   "source": [
    "## Task 6"
   ]
  },
  {
   "cell_type": "code",
   "execution_count": 20,
   "metadata": {},
   "outputs": [
    {
     "name": "stdout",
     "output_type": "stream",
     "text": [
      "List a (odd) [1, 3, 5]\n",
      "List b (even) [2, 4, 6]\n",
      "Combined list c: [1, 3, 5, 2, 4, 6]\n",
      "Combined list d: [6, 5, 4, 3, 2, 1]\n",
      "Combined list c: [1, 3, 5, 42, 4, 6]\n",
      "Combined list d: [6, 5, 4, 3, 2, 1, 10]\n",
      "Combined list c: [1, 3, 5, 42, 4, 6, [7, 8, 9]]\n",
      "Length of c: 7\n",
      "First 3 elements of c: [1, 3, 5]\n",
      "Last element of d: 10\n",
      "Length of d: 7\n"
     ]
    }
   ],
   "source": [
    "a = [1,3,5]\n",
    "b = [2,4,6]\n",
    "\n",
    "print(f\"List a (odd) {a}\")\n",
    "print(f\"List b (even) {b}\")\n",
    "\n",
    "c = a + b\n",
    "print(f\"Combined list c: {c}\")\n",
    "\n",
    "d = sorted(c)\n",
    "d.reverse()\n",
    "print(f\"Combined list d: {d}\")\n",
    "\n",
    "c[3] =42\n",
    "print(f\"Combined list c: {c}\")\n",
    "\n",
    "d.append(10)\n",
    "print(f\"Combined list d: {d}\")\n",
    "\n",
    "c.append([7,8,9])\n",
    "print(f\"Combined list c: {c}\")\n",
    "print(f\"Length of c: {len(c)}\")\n",
    "\n",
    "print(f\"First 3 elements of c: {c[:3]}\")\n",
    "print(f\"Last element of d: {d[-1]}\")\n",
    "print(f\"Length of d: {len(d)}\")\n",
    "\n",
    "\n"
   ]
  },
  {
   "cell_type": "code",
   "execution_count": 24,
   "metadata": {},
   "outputs": [
    {
     "name": "stdout",
     "output_type": "stream",
     "text": [
      "3\n",
      "5\n",
      "[3, 4]\n",
      "[10, 11]\n"
     ]
    }
   ],
   "source": [
    "a = [(1),(2,3),(4,5,6)]\n",
    "print(a[1][1])\n",
    "print(a[2][1])\n",
    "b = [[1,2,3,4],[5,6,7,8],[9,10,11,12],[13,14,15,16]]\n",
    "print(b[0][2:])\n",
    "print(b[2][1:3])"
   ]
  }
 ],
 "metadata": {
  "kernelspec": {
   "display_name": "Python 3",
   "language": "python",
   "name": "python3"
  },
  "language_info": {
   "codemirror_mode": {
    "name": "ipython",
    "version": 3
   },
   "file_extension": ".py",
   "mimetype": "text/x-python",
   "name": "python",
   "nbconvert_exporter": "python",
   "pygments_lexer": "ipython3",
   "version": "3.10.5"
  },
  "orig_nbformat": 4,
  "vscode": {
   "interpreter": {
    "hash": "26de051ba29f2982a8de78e945f0abaf191376122a1563185a90213a26c5da77"
   }
  }
 },
 "nbformat": 4,
 "nbformat_minor": 2
}
